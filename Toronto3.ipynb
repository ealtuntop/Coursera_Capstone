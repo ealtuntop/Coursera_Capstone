{
 "cells": [
  {
   "cell_type": "markdown",
   "metadata": {},
   "source": [
    "<h1 align=center><font size = 5>Segmenting and Clustering Neighborhoods in Toronto</font></h1>"
   ]
  },
  {
   "cell_type": "markdown",
   "metadata": {},
   "source": [
    "Before we get the data and start exploring it, let's download all the dependencies that we will need."
   ]
  },
  {
   "cell_type": "code",
   "execution_count": 15,
   "metadata": {},
   "outputs": [
    {
     "name": "stdout",
     "output_type": "stream",
     "text": [
      "Libraries imported.\n"
     ]
    }
   ],
   "source": [
    "import numpy as np # library to handle data in a vectorized manner\n",
    "\n",
    "import pandas as pd # library for data analsysis\n",
    "pd.set_option('display.max_columns', None)\n",
    "pd.set_option('display.max_rows', None)\n",
    "\n",
    "import json # library to handle JSON files\n",
    "\n",
    "#!conda install -c conda-forge geopy --yes # uncomment this line if you haven't completed the Foursquare API lab\n",
    "from geopy.geocoders import Nominatim # convert an address into latitude and longitude values\n",
    "\n",
    "import requests # library to handle requests\n",
    "from pandas.io.json import json_normalize # tranform JSON file into a pandas dataframe\n",
    "\n",
    "# Matplotlib and associated plotting modules\n",
    "import matplotlib.cm as cm\n",
    "import matplotlib.colors as colors\n",
    "\n",
    "# import k-means from clustering stage\n",
    "from sklearn.cluster import KMeans\n",
    "\n",
    "#!conda install -c conda-forge folium=0.5.0 --yes # uncomment this line if you haven't completed the Foursquare API lab\n",
    "import folium # map rendering library\n",
    "\n",
    "print('Libraries imported.')"
   ]
  },
  {
   "cell_type": "markdown",
   "metadata": {},
   "source": [
    "## 1. Download and Scrape Dataset"
   ]
  },
  {
   "cell_type": "code",
   "execution_count": 16,
   "metadata": {},
   "outputs": [],
   "source": [
    "website_url = \"https://en.wikipedia.org/wiki/List_of_postal_codes_of_Canada:_M\""
   ]
  },
  {
   "cell_type": "markdown",
   "metadata": {},
   "source": [
    "Use beautiful soup library to scrape the table from Wikipedia"
   ]
  },
  {
   "cell_type": "code",
   "execution_count": 17,
   "metadata": {},
   "outputs": [],
   "source": [
    "from bs4 import BeautifulSoup\n",
    "import urllib.request\n",
    "\n",
    "url = 'https://en.wikipedia.org/wiki/List_of_postal_codes_of_Canada:_M'\n",
    "req = urllib.request.urlopen(url)\n",
    "article = req.read().decode()\n",
    "\n",
    "with open('List of postal codes of Canada: M', 'w') as fo:\n",
    "    fo.write(article)"
   ]
  },
  {
   "cell_type": "code",
   "execution_count": 18,
   "metadata": {},
   "outputs": [],
   "source": [
    "from bs4 import BeautifulSoup\n",
    "\n",
    "# Load article, turn into soup and get the <table>s.\n",
    "article = open('List of postal codes of Canada: M').read()\n",
    "soup = BeautifulSoup(article, 'html.parser')\n",
    "tables = soup.find_all('table', class_='sortable')\n",
    "#print(tables)\n",
    "# Search through the tables for the one with the headings we want.\n",
    "for table in tables:\n",
    "    ths = table.find_all('th')\n",
    "    headings = [th.text.strip() for th in ths]\n",
    "    if headings[:3] == ['Postcode','Borough', 'Neighborhood']:\n",
    "        break\n",
    "\n",
    "# Extract the columns we want and write to a semicolon-delimited text file.\n",
    "with open('List of postal codes of Canada: M.txt', 'w') as fo:\n",
    "    for tr in table.find_all('tr'):\n",
    "        tds = tr.find_all('td')\n",
    "        if not tds:\n",
    "            continue\n",
    "        postcode, borough, neighborhood = [td.text.strip() for td in tds[:3]]\n",
    "        # Wikipedia does something funny with country names containing\n",
    "        # accented characters: extract the correct string form.\n",
    "        print('; '.join([postcode, borough, neighborhood]), file=fo)"
   ]
  },
  {
   "cell_type": "code",
   "execution_count": 19,
   "metadata": {},
   "outputs": [
    {
     "name": "stdout",
     "output_type": "stream",
     "text": [
      "Dimensions of the data frame is (288, 3)\n"
     ]
    },
    {
     "data": {
      "text/html": [
       "<div>\n",
       "<style scoped>\n",
       "    .dataframe tbody tr th:only-of-type {\n",
       "        vertical-align: middle;\n",
       "    }\n",
       "\n",
       "    .dataframe tbody tr th {\n",
       "        vertical-align: top;\n",
       "    }\n",
       "\n",
       "    .dataframe thead th {\n",
       "        text-align: right;\n",
       "    }\n",
       "</style>\n",
       "<table border=\"1\" class=\"dataframe\">\n",
       "  <thead>\n",
       "    <tr style=\"text-align: right;\">\n",
       "      <th></th>\n",
       "      <th>Postcode</th>\n",
       "      <th>Borough</th>\n",
       "      <th>Neighborhood</th>\n",
       "    </tr>\n",
       "  </thead>\n",
       "  <tbody>\n",
       "    <tr>\n",
       "      <th>0</th>\n",
       "      <td>M1A</td>\n",
       "      <td>Not assigned</td>\n",
       "      <td>Not assigned</td>\n",
       "    </tr>\n",
       "    <tr>\n",
       "      <th>1</th>\n",
       "      <td>M2A</td>\n",
       "      <td>Not assigned</td>\n",
       "      <td>Not assigned</td>\n",
       "    </tr>\n",
       "    <tr>\n",
       "      <th>2</th>\n",
       "      <td>M3A</td>\n",
       "      <td>North York</td>\n",
       "      <td>Parkwoods</td>\n",
       "    </tr>\n",
       "    <tr>\n",
       "      <th>3</th>\n",
       "      <td>M4A</td>\n",
       "      <td>North York</td>\n",
       "      <td>Victoria Village</td>\n",
       "    </tr>\n",
       "    <tr>\n",
       "      <th>4</th>\n",
       "      <td>M5A</td>\n",
       "      <td>Downtown Toronto</td>\n",
       "      <td>Harbourfront</td>\n",
       "    </tr>\n",
       "  </tbody>\n",
       "</table>\n",
       "</div>"
      ],
      "text/plain": [
       "  Postcode            Borough       Neighborhood\n",
       "0      M1A       Not assigned       Not assigned\n",
       "1      M2A       Not assigned       Not assigned\n",
       "2      M3A         North York          Parkwoods\n",
       "3      M4A         North York   Victoria Village\n",
       "4      M5A   Downtown Toronto       Harbourfront"
      ]
     },
     "execution_count": 19,
     "metadata": {},
     "output_type": "execute_result"
    }
   ],
   "source": [
    "#write the textfile to a Pandas dataframe\n",
    "df = pd.read_csv('List of postal codes of Canada: M.txt', sep=';', \n",
    "                 converters={'Postcode': str, 'Borough': str, 'Neighborhood': str}, \n",
    "                 header=None, names=['Postcode','Borough', 'Neighborhood'])\n",
    "print('Dimensions of the data frame is', df.shape)\n",
    "df.head()"
   ]
  },
  {
   "cell_type": "markdown",
   "metadata": {},
   "source": [
    "## Clean the dataset"
   ]
  },
  {
   "cell_type": "markdown",
   "metadata": {},
   "source": [
    "Ignore cells with a borough that is Not assigned."
   ]
  },
  {
   "cell_type": "code",
   "execution_count": 20,
   "metadata": {},
   "outputs": [],
   "source": [
    "#Drop cells when Borough = Not assigned and show the final dimension of the array\n",
    "df.drop(df[df.Borough == ' Not assigned'].index, inplace=True)\n",
    "#reset the index to start from 0\n",
    "df.index = np.arange(len(df))"
   ]
  },
  {
   "cell_type": "markdown",
   "metadata": {},
   "source": [
    "Combine multiple rows into one row with the neighborhoods separated with a comma\n",
    "\n",
    "Also, if a cell has a borough but a Not assigned neighborhood, then the neighborhood will be the same as the borough"
   ]
  },
  {
   "cell_type": "code",
   "execution_count": 21,
   "metadata": {},
   "outputs": [],
   "source": [
    "df = df.groupby(['Postcode','Borough'])['Neighborhood'].apply(','.join).reset_index()"
   ]
  },
  {
   "cell_type": "code",
   "execution_count": 22,
   "metadata": {},
   "outputs": [
    {
     "data": {
      "text/html": [
       "<div>\n",
       "<style scoped>\n",
       "    .dataframe tbody tr th:only-of-type {\n",
       "        vertical-align: middle;\n",
       "    }\n",
       "\n",
       "    .dataframe tbody tr th {\n",
       "        vertical-align: top;\n",
       "    }\n",
       "\n",
       "    .dataframe thead th {\n",
       "        text-align: right;\n",
       "    }\n",
       "</style>\n",
       "<table border=\"1\" class=\"dataframe\">\n",
       "  <thead>\n",
       "    <tr style=\"text-align: right;\">\n",
       "      <th></th>\n",
       "      <th>Postcode</th>\n",
       "      <th>Borough</th>\n",
       "      <th>Neighborhood</th>\n",
       "    </tr>\n",
       "  </thead>\n",
       "  <tbody>\n",
       "    <tr>\n",
       "      <th>0</th>\n",
       "      <td>M1B</td>\n",
       "      <td>Scarborough</td>\n",
       "      <td>Rouge, Malvern</td>\n",
       "    </tr>\n",
       "    <tr>\n",
       "      <th>1</th>\n",
       "      <td>M1C</td>\n",
       "      <td>Scarborough</td>\n",
       "      <td>Highland Creek, Rouge Hill, Port Union</td>\n",
       "    </tr>\n",
       "    <tr>\n",
       "      <th>2</th>\n",
       "      <td>M1E</td>\n",
       "      <td>Scarborough</td>\n",
       "      <td>Guildwood, Morningside, West Hill</td>\n",
       "    </tr>\n",
       "    <tr>\n",
       "      <th>3</th>\n",
       "      <td>M1G</td>\n",
       "      <td>Scarborough</td>\n",
       "      <td>Woburn</td>\n",
       "    </tr>\n",
       "    <tr>\n",
       "      <th>4</th>\n",
       "      <td>M1H</td>\n",
       "      <td>Scarborough</td>\n",
       "      <td>Cedarbrae</td>\n",
       "    </tr>\n",
       "    <tr>\n",
       "      <th>5</th>\n",
       "      <td>M1J</td>\n",
       "      <td>Scarborough</td>\n",
       "      <td>Scarborough Village</td>\n",
       "    </tr>\n",
       "    <tr>\n",
       "      <th>6</th>\n",
       "      <td>M1K</td>\n",
       "      <td>Scarborough</td>\n",
       "      <td>East Birchmount Park, Ionview, Kennedy Park</td>\n",
       "    </tr>\n",
       "    <tr>\n",
       "      <th>7</th>\n",
       "      <td>M1L</td>\n",
       "      <td>Scarborough</td>\n",
       "      <td>Clairlea, Golden Mile, Oakridge</td>\n",
       "    </tr>\n",
       "    <tr>\n",
       "      <th>8</th>\n",
       "      <td>M1M</td>\n",
       "      <td>Scarborough</td>\n",
       "      <td>Cliffcrest, Cliffside, Scarborough Village West</td>\n",
       "    </tr>\n",
       "    <tr>\n",
       "      <th>9</th>\n",
       "      <td>M1N</td>\n",
       "      <td>Scarborough</td>\n",
       "      <td>Birch Cliff, Cliffside West</td>\n",
       "    </tr>\n",
       "  </tbody>\n",
       "</table>\n",
       "</div>"
      ],
      "text/plain": [
       "  Postcode       Borough                                      Neighborhood\n",
       "0      M1B   Scarborough                                    Rouge, Malvern\n",
       "1      M1C   Scarborough            Highland Creek, Rouge Hill, Port Union\n",
       "2      M1E   Scarborough                 Guildwood, Morningside, West Hill\n",
       "3      M1G   Scarborough                                            Woburn\n",
       "4      M1H   Scarborough                                         Cedarbrae\n",
       "5      M1J   Scarborough                               Scarborough Village\n",
       "6      M1K   Scarborough       East Birchmount Park, Ionview, Kennedy Park\n",
       "7      M1L   Scarborough                   Clairlea, Golden Mile, Oakridge\n",
       "8      M1M   Scarborough   Cliffcrest, Cliffside, Scarborough Village West\n",
       "9      M1N   Scarborough                       Birch Cliff, Cliffside West"
      ]
     },
     "execution_count": 22,
     "metadata": {},
     "output_type": "execute_result"
    }
   ],
   "source": [
    "df.Neighborhood[85] = \"Queen's Park\"\n",
    "df.head(10)"
   ]
  },
  {
   "cell_type": "code",
   "execution_count": 23,
   "metadata": {},
   "outputs": [
    {
     "name": "stdout",
     "output_type": "stream",
     "text": [
      "Shape of the dataframe (103, 3)\n"
     ]
    }
   ],
   "source": [
    "print('Shape of the dataframe', df.shape)"
   ]
  },
  {
   "cell_type": "markdown",
   "metadata": {},
   "source": [
    " ## 2. Getting Geographical Data"
   ]
  },
  {
   "cell_type": "markdown",
   "metadata": {},
   "source": [
    "Data is imported from the link provided in the assignment"
   ]
  },
  {
   "cell_type": "code",
   "execution_count": 24,
   "metadata": {},
   "outputs": [
    {
     "name": "stdout",
     "output_type": "stream",
     "text": [
      "Data downloaded!\n"
     ]
    }
   ],
   "source": [
    "!wget -q -O 'Geospatial_Coordinates.csv' https://cocl.us/Geospatial_data\n",
    "print('Data downloaded!')"
   ]
  },
  {
   "cell_type": "code",
   "execution_count": 25,
   "metadata": {},
   "outputs": [
    {
     "data": {
      "text/html": [
       "<div>\n",
       "<style scoped>\n",
       "    .dataframe tbody tr th:only-of-type {\n",
       "        vertical-align: middle;\n",
       "    }\n",
       "\n",
       "    .dataframe tbody tr th {\n",
       "        vertical-align: top;\n",
       "    }\n",
       "\n",
       "    .dataframe thead th {\n",
       "        text-align: right;\n",
       "    }\n",
       "</style>\n",
       "<table border=\"1\" class=\"dataframe\">\n",
       "  <thead>\n",
       "    <tr style=\"text-align: right;\">\n",
       "      <th></th>\n",
       "      <th>Postal Code</th>\n",
       "      <th>Latitude</th>\n",
       "      <th>Longitude</th>\n",
       "    </tr>\n",
       "  </thead>\n",
       "  <tbody>\n",
       "    <tr>\n",
       "      <th>0</th>\n",
       "      <td>M1B</td>\n",
       "      <td>43.806686</td>\n",
       "      <td>-79.194353</td>\n",
       "    </tr>\n",
       "    <tr>\n",
       "      <th>1</th>\n",
       "      <td>M1C</td>\n",
       "      <td>43.784535</td>\n",
       "      <td>-79.160497</td>\n",
       "    </tr>\n",
       "    <tr>\n",
       "      <th>2</th>\n",
       "      <td>M1E</td>\n",
       "      <td>43.763573</td>\n",
       "      <td>-79.188711</td>\n",
       "    </tr>\n",
       "    <tr>\n",
       "      <th>3</th>\n",
       "      <td>M1G</td>\n",
       "      <td>43.770992</td>\n",
       "      <td>-79.216917</td>\n",
       "    </tr>\n",
       "    <tr>\n",
       "      <th>4</th>\n",
       "      <td>M1H</td>\n",
       "      <td>43.773136</td>\n",
       "      <td>-79.239476</td>\n",
       "    </tr>\n",
       "  </tbody>\n",
       "</table>\n",
       "</div>"
      ],
      "text/plain": [
       "  Postal Code   Latitude  Longitude\n",
       "0         M1B  43.806686 -79.194353\n",
       "1         M1C  43.784535 -79.160497\n",
       "2         M1E  43.763573 -79.188711\n",
       "3         M1G  43.770992 -79.216917\n",
       "4         M1H  43.773136 -79.239476"
      ]
     },
     "execution_count": 25,
     "metadata": {},
     "output_type": "execute_result"
    }
   ],
   "source": [
    "coordinates_df = pd.read_csv('Geospatial_Coordinates.csv')\n",
    "coordinates_df.head()"
   ]
  },
  {
   "cell_type": "markdown",
   "metadata": {},
   "source": []
  },
  {
   "cell_type": "markdown",
   "metadata": {},
   "source": [
    "asdasd"
   ]
  },
  {
   "cell_type": "code",
   "execution_count": 26,
   "metadata": {},
   "outputs": [
    {
     "data": {
      "text/html": [
       "<div>\n",
       "<style scoped>\n",
       "    .dataframe tbody tr th:only-of-type {\n",
       "        vertical-align: middle;\n",
       "    }\n",
       "\n",
       "    .dataframe tbody tr th {\n",
       "        vertical-align: top;\n",
       "    }\n",
       "\n",
       "    .dataframe thead th {\n",
       "        text-align: right;\n",
       "    }\n",
       "</style>\n",
       "<table border=\"1\" class=\"dataframe\">\n",
       "  <thead>\n",
       "    <tr style=\"text-align: right;\">\n",
       "      <th></th>\n",
       "      <th>Postcode</th>\n",
       "      <th>Borough</th>\n",
       "      <th>Neighborhood</th>\n",
       "      <th>Latitude</th>\n",
       "      <th>Longitude</th>\n",
       "    </tr>\n",
       "  </thead>\n",
       "  <tbody>\n",
       "    <tr>\n",
       "      <th>0</th>\n",
       "      <td>M1B</td>\n",
       "      <td>Scarborough</td>\n",
       "      <td>Rouge, Malvern</td>\n",
       "      <td>43.806686</td>\n",
       "      <td>-79.194353</td>\n",
       "    </tr>\n",
       "    <tr>\n",
       "      <th>1</th>\n",
       "      <td>M1C</td>\n",
       "      <td>Scarborough</td>\n",
       "      <td>Highland Creek, Rouge Hill, Port Union</td>\n",
       "      <td>43.784535</td>\n",
       "      <td>-79.160497</td>\n",
       "    </tr>\n",
       "    <tr>\n",
       "      <th>2</th>\n",
       "      <td>M1E</td>\n",
       "      <td>Scarborough</td>\n",
       "      <td>Guildwood, Morningside, West Hill</td>\n",
       "      <td>43.763573</td>\n",
       "      <td>-79.188711</td>\n",
       "    </tr>\n",
       "    <tr>\n",
       "      <th>3</th>\n",
       "      <td>M1G</td>\n",
       "      <td>Scarborough</td>\n",
       "      <td>Woburn</td>\n",
       "      <td>43.770992</td>\n",
       "      <td>-79.216917</td>\n",
       "    </tr>\n",
       "    <tr>\n",
       "      <th>4</th>\n",
       "      <td>M1H</td>\n",
       "      <td>Scarborough</td>\n",
       "      <td>Cedarbrae</td>\n",
       "      <td>43.773136</td>\n",
       "      <td>-79.239476</td>\n",
       "    </tr>\n",
       "    <tr>\n",
       "      <th>5</th>\n",
       "      <td>M1J</td>\n",
       "      <td>Scarborough</td>\n",
       "      <td>Scarborough Village</td>\n",
       "      <td>43.744734</td>\n",
       "      <td>-79.239476</td>\n",
       "    </tr>\n",
       "    <tr>\n",
       "      <th>6</th>\n",
       "      <td>M1K</td>\n",
       "      <td>Scarborough</td>\n",
       "      <td>East Birchmount Park, Ionview, Kennedy Park</td>\n",
       "      <td>43.727929</td>\n",
       "      <td>-79.262029</td>\n",
       "    </tr>\n",
       "    <tr>\n",
       "      <th>7</th>\n",
       "      <td>M1L</td>\n",
       "      <td>Scarborough</td>\n",
       "      <td>Clairlea, Golden Mile, Oakridge</td>\n",
       "      <td>43.711112</td>\n",
       "      <td>-79.284577</td>\n",
       "    </tr>\n",
       "    <tr>\n",
       "      <th>8</th>\n",
       "      <td>M1M</td>\n",
       "      <td>Scarborough</td>\n",
       "      <td>Cliffcrest, Cliffside, Scarborough Village West</td>\n",
       "      <td>43.716316</td>\n",
       "      <td>-79.239476</td>\n",
       "    </tr>\n",
       "    <tr>\n",
       "      <th>9</th>\n",
       "      <td>M1N</td>\n",
       "      <td>Scarborough</td>\n",
       "      <td>Birch Cliff, Cliffside West</td>\n",
       "      <td>43.692657</td>\n",
       "      <td>-79.264848</td>\n",
       "    </tr>\n",
       "    <tr>\n",
       "      <th>10</th>\n",
       "      <td>M1P</td>\n",
       "      <td>Scarborough</td>\n",
       "      <td>Dorset Park, Scarborough Town Centre, Wexford...</td>\n",
       "      <td>43.757410</td>\n",
       "      <td>-79.273304</td>\n",
       "    </tr>\n",
       "    <tr>\n",
       "      <th>11</th>\n",
       "      <td>M1R</td>\n",
       "      <td>Scarborough</td>\n",
       "      <td>Maryvale, Wexford</td>\n",
       "      <td>43.750072</td>\n",
       "      <td>-79.295849</td>\n",
       "    </tr>\n",
       "  </tbody>\n",
       "</table>\n",
       "</div>"
      ],
      "text/plain": [
       "   Postcode       Borough                                       Neighborhood  \\\n",
       "0       M1B   Scarborough                                     Rouge, Malvern   \n",
       "1       M1C   Scarborough             Highland Creek, Rouge Hill, Port Union   \n",
       "2       M1E   Scarborough                  Guildwood, Morningside, West Hill   \n",
       "3       M1G   Scarborough                                             Woburn   \n",
       "4       M1H   Scarborough                                          Cedarbrae   \n",
       "5       M1J   Scarborough                                Scarborough Village   \n",
       "6       M1K   Scarborough        East Birchmount Park, Ionview, Kennedy Park   \n",
       "7       M1L   Scarborough                    Clairlea, Golden Mile, Oakridge   \n",
       "8       M1M   Scarborough    Cliffcrest, Cliffside, Scarborough Village West   \n",
       "9       M1N   Scarborough                        Birch Cliff, Cliffside West   \n",
       "10      M1P   Scarborough   Dorset Park, Scarborough Town Centre, Wexford...   \n",
       "11      M1R   Scarborough                                  Maryvale, Wexford   \n",
       "\n",
       "     Latitude  Longitude  \n",
       "0   43.806686 -79.194353  \n",
       "1   43.784535 -79.160497  \n",
       "2   43.763573 -79.188711  \n",
       "3   43.770992 -79.216917  \n",
       "4   43.773136 -79.239476  \n",
       "5   43.744734 -79.239476  \n",
       "6   43.727929 -79.262029  \n",
       "7   43.711112 -79.284577  \n",
       "8   43.716316 -79.239476  \n",
       "9   43.692657 -79.264848  \n",
       "10  43.757410 -79.273304  \n",
       "11  43.750072 -79.295849  "
      ]
     },
     "execution_count": 26,
     "metadata": {},
     "output_type": "execute_result"
    }
   ],
   "source": [
    "#add new columns to the data frame\n",
    "df['Latitude'] = coordinates_df.Latitude\n",
    "df['Longitude'] = coordinates_df.Longitude\n",
    "df.head(12)"
   ]
  },
  {
   "cell_type": "code",
   "execution_count": 27,
   "metadata": {},
   "outputs": [
    {
     "data": {
      "text/plain": [
       "array([0, 0, 0, 0, 0, 0, 0, 2, 0, 2], dtype=int32)"
      ]
     },
     "execution_count": 27,
     "metadata": {},
     "output_type": "execute_result"
    }
   ],
   "source": [
    "# set number of clusters\n",
    "kclusters = 5\n",
    "\n",
    "toronto_grouped_clustering = df.drop(columns=['Neighborhood', 'Postcode','Borough'])\n",
    "\n",
    "# run k-means clustering\n",
    "kmeans = KMeans(n_clusters=kclusters, random_state=0).fit(toronto_grouped_clustering)\n",
    "\n",
    "# check cluster labels generated for each row in the dataframe\n",
    "kmeans.labels_[0:10]"
   ]
  },
  {
   "cell_type": "code",
   "execution_count": 28,
   "metadata": {},
   "outputs": [
    {
     "data": {
      "text/html": [
       "<div>\n",
       "<style scoped>\n",
       "    .dataframe tbody tr th:only-of-type {\n",
       "        vertical-align: middle;\n",
       "    }\n",
       "\n",
       "    .dataframe tbody tr th {\n",
       "        vertical-align: top;\n",
       "    }\n",
       "\n",
       "    .dataframe thead th {\n",
       "        text-align: right;\n",
       "    }\n",
       "</style>\n",
       "<table border=\"1\" class=\"dataframe\">\n",
       "  <thead>\n",
       "    <tr style=\"text-align: right;\">\n",
       "      <th></th>\n",
       "      <th>Cluster Labels</th>\n",
       "      <th>Postcode</th>\n",
       "      <th>Borough</th>\n",
       "      <th>Neighborhood</th>\n",
       "      <th>Latitude</th>\n",
       "      <th>Longitude</th>\n",
       "    </tr>\n",
       "  </thead>\n",
       "  <tbody>\n",
       "    <tr>\n",
       "      <th>0</th>\n",
       "      <td>0</td>\n",
       "      <td>M1B</td>\n",
       "      <td>Scarborough</td>\n",
       "      <td>Rouge, Malvern</td>\n",
       "      <td>43.806686</td>\n",
       "      <td>-79.194353</td>\n",
       "    </tr>\n",
       "    <tr>\n",
       "      <th>1</th>\n",
       "      <td>0</td>\n",
       "      <td>M1C</td>\n",
       "      <td>Scarborough</td>\n",
       "      <td>Highland Creek, Rouge Hill, Port Union</td>\n",
       "      <td>43.784535</td>\n",
       "      <td>-79.160497</td>\n",
       "    </tr>\n",
       "    <tr>\n",
       "      <th>2</th>\n",
       "      <td>0</td>\n",
       "      <td>M1E</td>\n",
       "      <td>Scarborough</td>\n",
       "      <td>Guildwood, Morningside, West Hill</td>\n",
       "      <td>43.763573</td>\n",
       "      <td>-79.188711</td>\n",
       "    </tr>\n",
       "    <tr>\n",
       "      <th>3</th>\n",
       "      <td>0</td>\n",
       "      <td>M1G</td>\n",
       "      <td>Scarborough</td>\n",
       "      <td>Woburn</td>\n",
       "      <td>43.770992</td>\n",
       "      <td>-79.216917</td>\n",
       "    </tr>\n",
       "    <tr>\n",
       "      <th>4</th>\n",
       "      <td>0</td>\n",
       "      <td>M1H</td>\n",
       "      <td>Scarborough</td>\n",
       "      <td>Cedarbrae</td>\n",
       "      <td>43.773136</td>\n",
       "      <td>-79.239476</td>\n",
       "    </tr>\n",
       "  </tbody>\n",
       "</table>\n",
       "</div>"
      ],
      "text/plain": [
       "   Cluster Labels Postcode       Borough  \\\n",
       "0               0      M1B   Scarborough   \n",
       "1               0      M1C   Scarborough   \n",
       "2               0      M1E   Scarborough   \n",
       "3               0      M1G   Scarborough   \n",
       "4               0      M1H   Scarborough   \n",
       "\n",
       "                              Neighborhood   Latitude  Longitude  \n",
       "0                           Rouge, Malvern  43.806686 -79.194353  \n",
       "1   Highland Creek, Rouge Hill, Port Union  43.784535 -79.160497  \n",
       "2        Guildwood, Morningside, West Hill  43.763573 -79.188711  \n",
       "3                                   Woburn  43.770992 -79.216917  \n",
       "4                                Cedarbrae  43.773136 -79.239476  "
      ]
     },
     "execution_count": 28,
     "metadata": {},
     "output_type": "execute_result"
    }
   ],
   "source": [
    "df.insert(0, 'Cluster Labels', kmeans.labels_)\n",
    "df.head()"
   ]
  },
  {
   "cell_type": "markdown",
   "metadata": {},
   "source": [
    "Lets get the location of Toronto"
   ]
  },
  {
   "cell_type": "code",
   "execution_count": 29,
   "metadata": {},
   "outputs": [
    {
     "name": "stdout",
     "output_type": "stream",
     "text": [
      "The geograpical coordinate of Toronto are 43.653963, -79.387207.\n"
     ]
    }
   ],
   "source": [
    "address = 'Toronto'\n",
    "\n",
    "geolocator = Nominatim(user_agent=\"ny_explorer\")\n",
    "location = geolocator.geocode(address)\n",
    "latitude = location.latitude\n",
    "longitude = location.longitude\n",
    "print('The geograpical coordinate of Toronto are {}, {}.'.format(latitude, longitude))"
   ]
  },
  {
   "cell_type": "code",
   "execution_count": 31,
   "metadata": {},
   "outputs": [
    {
     "data": {
      "text/html": [
       "<div style=\"width:100%;\"><div style=\"position:relative;width:100%;height:0;padding-bottom:60%;\"><iframe src=\"data:text/html;charset=utf-8;base64,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\" style=\"position:absolute;width:100%;height:100%;left:0;top:0;border:none !important;\" allowfullscreen webkitallowfullscreen mozallowfullscreen></iframe></div></div>"
      ],
      "text/plain": [
       "<folium.folium.Map at 0x7f83bf6f4ac8>"
      ]
     },
     "execution_count": 31,
     "metadata": {},
     "output_type": "execute_result"
    }
   ],
   "source": [
    "# create map\n",
    "map_clusters = folium.Map(location=[latitude, longitude], zoom_start=11)\n",
    "\n",
    "# set color scheme for the clusters\n",
    "x = np.arange(kclusters)\n",
    "ys = [i + x + (i*x)**2 for i in range(kclusters)]\n",
    "colors_array = cm.rainbow(np.linspace(0, 1, len(ys)))\n",
    "rainbow = [colors.rgb2hex(i) for i in colors_array]\n",
    "\n",
    "# add markers to the map\n",
    "markers_colors = []\n",
    "for lat, lon, poi, cluster in zip(df['Latitude'], df['Longitude'], df['Neighborhood'], df['Cluster Labels']):\n",
    "    label = folium.Popup(str(poi) + ' Cluster ' + str(cluster), parse_html=True)\n",
    "    folium.CircleMarker(\n",
    "        [lat, lon],\n",
    "        radius=5,\n",
    "        popup=label,\n",
    "        color=rainbow[cluster-1],\n",
    "        fill=True,\n",
    "        fill_color=rainbow[cluster-1],\n",
    "        fill_opacity=0.7).add_to(map_clusters)\n",
    "       \n",
    "map_clusters"
   ]
  },
  {
   "cell_type": "code",
   "execution_count": null,
   "metadata": {},
   "outputs": [],
   "source": []
  }
 ],
 "metadata": {
  "kernelspec": {
   "display_name": "Python 3",
   "language": "python",
   "name": "python3"
  },
  "language_info": {
   "codemirror_mode": {
    "name": "ipython",
    "version": 3
   },
   "file_extension": ".py",
   "mimetype": "text/x-python",
   "name": "python",
   "nbconvert_exporter": "python",
   "pygments_lexer": "ipython3",
   "version": "3.6.8"
  }
 },
 "nbformat": 4,
 "nbformat_minor": 2
}
